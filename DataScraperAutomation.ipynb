{
 "cells": [
  {
   "cell_type": "code",
   "execution_count": null,
   "id": "initial_id",
   "metadata": {
    "collapsed": true
   },
   "outputs": [],
   "source": [
    "import time\n",
    "import pandas as pd\n",
    "\n",
    "from webdriver_manager.firefox import GeckoDriverManager\n",
    "from webdriver_manager.chrome import ChromeDriverManager\n",
    "\n",
    "from selenium import webdriver\n",
    "from selenium.webdriver.common.by import By\n",
    "from selenium.webdriver.common.keys import Keys\n",
    "from selenium.webdriver.common.selenium_manager import SeleniumManager\n",
    "from selenium.common.exceptions import *\n",
    "\n",
    "# Chrome Driver\n",
    "from selenium.webdriver.chrome.service import Service\n",
    "from selenium.webdriver.chrome.options import Options\n",
    "\n",
    "# Firefox Driver\n",
    "from selenium.webdriver.firefox.service import Service\n",
    "from selenium.webdriver.firefox.options import Options\n",
    "\n",
    "\n",
    "class InfiniteScrollScraper:\n",
    "    \n",
    "    def __init__(self, site: str, xpath_selector):\n",
    "        self.url = site\n",
    "        self.data = []\n",
    "        # doing it this way will make it easier to dynamically input new selectors or class names:\n",
    "        self.class_xpath = f\"//div[@class={xpath_selector}]\"\n",
    "        self.driver = self.setup_chrome_driver()\n",
    "    \n",
    "    @staticmethod\n",
    "    def setup_chrome_driver(self):\n",
    "        chrome_options = Options()\n",
    "        chrome_options.add_argument(\"--headless\")  # Run in background\n",
    "        driver = webdriver.Chrome(service=Service(ChromeDriverManager().install()), options=chrome_options)\n",
    "        return driver\n",
    "        \n",
    "    def scroll_and_scrape(self):\n",
    "        self.driver.get(self.url)\n",
    "        last_height = self.driver.execute_script(\"return document.body.scrollHeight\")\n",
    "\n",
    "        while True:\n",
    "            # Scroll down to the bottom.\n",
    "            self.driver.execute_script(\"window.scrollTo(0, document.body.scrollHeight);\")\n",
    "            # Wait to load the page.\n",
    "            time.sleep(3)\n",
    "\n",
    "            # Calculate new scroll height and compare with last scroll height.\n",
    "            new_height = self.driver.execute_script(\"return document.body.scrollHeight\")\n",
    "            if new_height == last_height:\n",
    "                break\n",
    "            last_height = new_height\n",
    "\n",
    "            # Scrape the data\n",
    "            self.scrape_data()\n",
    "\n",
    "    def scrape_data(self):\n",
    "        items = self.driver.find_elements(By.CSS_SELECTOR, \"selector_for_items\")\n",
    "        for item in items:\n",
    "            name = item.find_element(By.CSS_SELECTOR, \"selector_for_name\").text\n",
    "            address = item.find_element(By.CSS_SELECTOR, \"selector_for_address\").text\n",
    "            email = item.find_element(By.CSS_SELECTOR, \"selector_for_email\").text\n",
    "            phone = item.find_element(By.CSS_SELECTOR, \"selector_for_phone\").text\n",
    "            website = item.find_element(By.CSS_SELECTOR, \"selector_for_website\").text\n",
    "            self.data.append({\n",
    "                \"Name\": name,\n",
    "                \"Address\": address,\n",
    "                \"Email\": email,\n",
    "                \"Phone\": phone,\n",
    "                \"Website\": website\n",
    "            })\n",
    "\n",
    "    def save_data(self):\n",
    "        df = pd.DataFrame(self.data)\n",
    "        df.to_csv(\"scraped_data.csv\", index=False)\n",
    "\n",
    "    def close_driver(self):\n",
    "        self.driver.quit()\n",
    "\n",
    "    def run(self):\n",
    "        self.setup_driver()\n",
    "        self.scroll_and_scrape()\n",
    "        self.save_data()\n",
    "        self.close_driver()\n",
    "\n",
    "\n",
    "url = \"https://www.google.com/maps/search/businesses+in+baton+rouge/\"\n",
    "scraper = InfiniteScrollScraper(url)\n",
    "scraper.run()"
   ]
  },
  {
   "cell_type": "code",
   "outputs": [],
   "source": [
    "# Data Structures and cleaners\n",
    "import pandas as pd\n",
    "import pandas_geojson as pdgeo\n",
    "import pandas_datareader as pdr\n",
    "import janitor as jn\n",
    "\n",
    "# Data Storage and cleaning\n",
    "from pymongo import MongoClient\n",
    "import pymongoarrow as arrow\n",
    "\n",
    "# web driver managers\n",
    "from webdriver_manager.firefox import GeckoDriverManager\n",
    "from webdriver_manager.chrome import ChromeDriverManager\n",
    "\n",
    "# Web Automation packages\n",
    "from selenium import webdriver\n",
    "from selenium.webdriver.common.by import By\n",
    "from selenium.webdriver.common.keys import Keys\n",
    "from selenium.webdriver.common.selenium_manager import SeleniumManager\n",
    "from selenium.common.exceptions import *\n",
    "from dotenv import load_dotenv\n",
    "\n",
    "from utils import xpath_examples, element_attribute_examples"
   ],
   "metadata": {
    "collapsed": false,
    "ExecuteTime": {
     "end_time": "2024-03-16T05:21:05.945517800Z",
     "start_time": "2024-03-16T05:21:05.936764500Z"
    }
   },
   "id": "3048dc3e788ac258",
   "execution_count": 15
  },
  {
   "cell_type": "code",
   "outputs": [
    {
     "data": {
      "text/plain": "True"
     },
     "execution_count": 7,
     "metadata": {},
     "output_type": "execute_result"
    }
   ],
   "source": [
    "load_dotenv()"
   ],
   "metadata": {
    "collapsed": false,
    "ExecuteTime": {
     "end_time": "2024-03-16T02:31:50.343289900Z",
     "start_time": "2024-03-16T02:31:50.314948Z"
    }
   },
   "id": "95f63b4dbeeb8a7f",
   "execution_count": 7
  },
  {
   "cell_type": "markdown",
   "source": [
    "#### Create a Xpath Class:\n",
    "\n",
    "> Doing this will make it so that you can instantiate multiple objects if you plan on using the scraper to extract more than one item from the site. \n",
    "\n",
    "Instead of inheriting them though, maybe just take in one param called Xpath that can accept a list. So even if the list has one item, it will still work. Plus make the program check to make sure that their is an Xpath entered, and if not exit.\n",
    "\n",
    "> List of all the possible elements: `[\n",
    "    \"!DOCTYPE\", \"html\", \"head\", \"title\", \"base\", \"link\", \"meta\", \"style\", \"script\", \"noscript\",\n",
    "    \"body\", \"section\", \"nav\", \"article\", \"aside\", \"h1\", \"h2\", \"h3\", \"h4\", \"h5\", \"h6\",\n",
    "    \"header\", \"footer\", \"address\", \"main\", \"p\", \"hr\", \"pre\", \"blockquote\", \"ol\", \"ul\",\n",
    "    \"li\", \"dl\", \"dt\", \"dd\", \"figure\", \"figcaption\", \"div\", \"a\", \"em\", \"strong\", \"small\",\n",
    "    \"s\", \"cite\", \"q\", \"dfn\", \"abbr\", \"ruby\", \"rt\", \"rp\", \"data\", \"time\", \"code\", \"var\",\n",
    "    \"samp\", \"kbd\", \"sub\", \"sup\", \"i\", \"b\", \"u\", \"mark\", \"bdi\", \"bdo\", \"span\", \"br\", \"wbr\",\n",
    "    \"ins\", \"del\", \"image\", \"img\", \"iframe\", \"embed\", \"object\", \"param\", \"video\", \"audio\",\n",
    "    \"source\", \"track\", \"canvas\", \"map\", \"area\", \"svg\", \"math\", \"table\", \"caption\",\n",
    "    \"colgroup\", \"col\", \"tbody\", \"thead\", \"tfoot\", \"tr\", \"td\", \"th\", \"form\", \"fieldset\",\n",
    "    \"legend\", \"label\", \"input\", \"button\", \"select\", \"datalist\", \"optgroup\", \"option\",\n",
    "    \"textarea\", \"keygen\", \"output\", \"progress\", \"meter\", \"details\", \"summary\", \"menu\",\n",
    "    \"menuitem\", \"dialog\"\n",
    "]\n",
    "`\n",
    "\n",
    "> List of possible attributes: `html_attributes = [\n",
    "    \"id\", \"class\", \"style\", \"title\", \"alt\", \"src\", \"href\", \"target\", \"rel\",\n",
    "    \"type\", \"value\", \"name\", \"placeholder\", \"disabled\", \"checked\", \"readonly\",\n",
    "    \"selected\", \"multiple\", \"required\", \"pattern\", \"min\", \"max\", \"step\",\n",
    "    \"data-*\", \"aria-*\", \"role\", \"async\", \"defer\", \"srcset\", \"sizes\", \"hreflang\",\n",
    "    \"charset\", \"autofocus\", \"autocomplete\", \"novalidate\", \"method\", \"action\",\n",
    "    \"enctype\", \"formmethod\", \"formaction\", \"headers\", \"for\", \"form\", \"width\",\n",
    "    \"height\", \"frameborder\", \"allow\", \"allowfullscreen\", \"autoplay\", \"loop\",\n",
    "    \"muted\", \"controls\", \"download\", \"accesskey\", \"contenteditable\", \"dir\",\n",
    "    \"draggable\", \"hidden\", \"lang\", \"spellcheck\", \"tabindex\", \"translate\",\n",
    "    \"reversed\", \"start\", \"colspan\", \"rowspan\", \"headers\", \"scope\", \"align\",\n",
    "    \"nowrap\", \"border\", \"cellpadding\", \"cellspacing\", \"summary\", \"usemap\",\n",
    "    \"shape\", \"coords\", \"poster\", \"preload\", \"kind\", \"srclang\", \"sandbox\",\n",
    "    \"integrity\", \"crossorigin\", \"referrerpolicy\", \"loading\"\n",
    "]`"
   ],
   "metadata": {
    "collapsed": false
   },
   "id": "81042f2048a4a2a6"
  },
  {
   "cell_type": "code",
   "outputs": [],
   "source": [],
   "metadata": {
    "collapsed": false
   },
   "id": "ba78230ba52d80c4"
  },
  {
   "cell_type": "code",
   "outputs": [],
   "source": [
    "class XpathBuilder:\n",
    "    \n",
    "    \"\"\"\n",
    "    USe the xpath_examples and element_attribute_examples to build the XpathBuilder class.\n",
    "    The xpath examples will be used to get users decision on what they want to do, \n",
    "    and the element_attribute_examples will be used to verify the users input on what they want to target.\n",
    "    \n",
    "    so display examples\n",
    "    have user select a number 1 - 10 to choose the example.\n",
    "    Then ask the user the element they need to extract.\n",
    "    then ask if they need to extract an attribute.\n",
    "    then ask if they need to extract a selector.\n",
    "    insert the proper error exceptions and if and and statements to make sure\n",
    "    this class is used properly.\n",
    "    \n",
    "    Once the class is instantiated, there should be an xpath stored in the xpath_objects list\n",
    "    ready to be passed to the scraper object.\n",
    "    \"\"\"\n",
    "\n",
    "    def __init__(self, element=None, attribute=None, selector=None):\n",
    "        # if the user wants IXpath to build the Xpath for them then we need their input:\n",
    "        if element is None and attribute is None and selector is None:\n",
    "            # get prompt:\n",
    "            self.element_instance_prompt = input(\"What type of element is the Xpath located under: \")\n",
    "            \n",
    "        self.element = element or self.ask_for_input(\"Element (e.g., div, span, a): \")\n",
    "        self.attribute, self.selector = self.handle_element_specific_logic(self.element) if not attribute or not selector else (attribute, selector)\n",
    "        self.xpath = self.build_xpath()\n",
    "\n",
    "    def ask_for_input(self, prompt, optional=False):\n",
    "        user_input = input(prompt).strip()\n",
    "        if optional and user_input == \"\":\n",
    "            return None\n",
    "        while user_input == \"\":\n",
    "            print(\"This field is required. Please enter a value.\")\n",
    "            user_input = input(prompt).strip()\n",
    "        return user_input\n",
    "\n",
    "    def handle_element_specific_logic(self, element):\n",
    "        \"\"\"\n",
    "        Handles logic specific to certain elements, like <a> tags.\n",
    "        \"\"\"\n",
    "        if element == 'a':\n",
    "            print(\"You've selected an <a> element. What would you like to target?\")\n",
    "            print(\"1: href attribute\")\n",
    "            print(\"2: Text content\")\n",
    "            print(\"3: Class attribute\")\n",
    "            print(\"4: ID attribute\")\n",
    "            # Extend this list based on the options you want to provide.\n",
    "\n",
    "            choice = self.ask_for_input(\"Enter the number of your choice: \")\n",
    "\n",
    "            if choice == '1':\n",
    "                return ('href', None)\n",
    "            elif choice == '2':\n",
    "                return (None, None)  # No attribute needed for text content, handle differently in build_xpath\n",
    "            elif choice == '3':\n",
    "                return ('class', self.ask_for_input(\"Enter the class name: \"))\n",
    "            elif choice == '4':\n",
    "                return ('id', self.ask_for_input(\"Enter the ID: \"))\n",
    "            # Add more elif blocks for additional choices if necessary.\n",
    "        # Implement additional if statements for other elements with unique options.\n",
    "\n",
    "        # Default fallback for other elements or unspecified attributes.\n",
    "        attribute = self.ask_for_input(\"Attribute (e.g., class, id, style): \", optional=True)\n",
    "        selector = self.ask_for_input(f\"Value of {attribute}: \", optional=True) if attribute else None\n",
    "        return attribute, selector\n",
    "\n",
    "    def build_xpath(self):\n",
    "        \"\"\"\n",
    "        Builds the XPath based on the provided element, attribute, and selector.\n",
    "        \"\"\"\n",
    "        if self.attribute and self.selector:\n",
    "            return f\"//{self.element}[@{self.attribute}='{self.selector}']\"\n",
    "        elif self.attribute:\n",
    "            return f\"//{self.element}[@{self.attribute}]\"\n",
    "        elif self.element == 'a' and self.attribute is None:\n",
    "            return f\"//{self.element}[text()='{self.selector}']\"  # Handling text content for <a> specifically\n",
    "        else:\n",
    "            return f\"//{self.element}\"\n",
    "\n",
    "    def __str__(self):\n",
    "        \"\"\"\n",
    "        Returns the constructed XPath expression when the object is printed.\n",
    "        \"\"\"\n",
    "        return self.xpath"
   ],
   "metadata": {
    "collapsed": false
   },
   "id": "7b36e97edf0288fd"
  },
  {
   "cell_type": "code",
   "outputs": [],
   "source": [
    "class IXpath:\n",
    "    \"\"\"\n",
    "    Use it to instantiate an xpath object, or multiple xpath objects, for a website. Then pass\n",
    "    the object(s) to scraper object(s) and extract the items at the xpath's locations.\n",
    "    \n",
    "    Example:\n",
    "    \"//div[@class='class-name']\"\n",
    "    \"\"\"\n",
    "    \n",
    "    def __init__(self, element:str=None, attribute:str=None, selector:str=None):\n",
    "        \"\"\"\n",
    "        Instantiates an Xpath object that can be passed to a scraper to scraper that site with.\n",
    "\n",
    "        :param element: The site tag that the selector is located under (div, span, p, h{num}, a)\n",
    "        :param attribute: The site tags identifier. These are used to identify a site element (class, id, href)\n",
    "        :param selector: \n",
    "        \n",
    "        Example: \n",
    "        element=div, attribute=class, selector='class-name'\n",
    "        //{element}[@{attribute}={selector}]\n",
    "        \"\"\"\n",
    "        self.xpath = f\"//{element}[@{attribute}='{selector}']\""
   ],
   "metadata": {
    "collapsed": false
   },
   "id": "19e6c6cee584c6b"
  },
  {
   "cell_type": "code",
   "outputs": [],
   "source": [
    "class InfiniteScrollScraper:\n",
    "\n",
    "    def __init__(self, site: str, xpath_element:str=\"div\", xpath_attribute:str=\"class\", xpath_selector:list=None):\n",
    "        \"\"\"\n",
    "        The params are to make it so the user can dynamically choose their Xpath for each site \n",
    "        the scraper is used on. Also, multiple instances can be created.\n",
    "        :param site: \n",
    "        :param xpath_element: \n",
    "        :param xpath_attribute: \n",
    "        :param xpath_selector: \n",
    "        \"\"\"\n",
    "        self.url = site\n",
    "        self.data = []\n",
    "        # doing it this way will make it easier to dynamically input new selectors or class names:\n",
    "        self.xpath = f\"//{xpath_element}[@{xpath_attribute}={xpath_selector}]\"\n",
    "        self.drive_type = None\n",
    "        self.driver = self.setup_chrome_driver()\n",
    "\n",
    "    @staticmethod\n",
    "    def setup_chrome_driver():\n",
    "        chrome_options = Options()\n",
    "        chrome_options.add_argument(\"--headless\")  # Run in background\n",
    "        driver = webdriver.Chrome(service=Service(ChromeDriverManager().install()), options=chrome_options)\n",
    "        return driver\n",
    "    \n",
    "    @staticmethod\n",
    "    def setup_firefox_driver():\n",
    "        firefox_options = Options()\n",
    "        firefox_options.add_argument(\"--headless\")\n",
    "        driver = webdriver.Firefox(service=Service(GeckoDriverManager().install()), options=firefox_options)\n",
    "        return driver\n",
    "\n",
    "    def scroll_and_scrape(self):\n",
    "        self.driver.get(self.url)\n",
    "        last_height = self.driver.execute_script(\"return document.body.scrollHeight\")\n",
    "\n",
    "        while True:\n",
    "            # Scroll down to the bottom.\n",
    "            self.driver.execute_script(\"window.scrollTo(0, document.body.scrollHeight);\")\n",
    "            # Wait to load the page.\n",
    "            time.sleep(3)\n",
    "\n",
    "            # Calculate new scroll height and compare with last scroll height.\n",
    "            new_height = self.driver.execute_script(\"return document.body.scrollHeight\")\n",
    "            if new_height == last_height:\n",
    "                break\n",
    "            last_height = new_height\n",
    "\n",
    "            # Scrape the data\n",
    "            self.scrape_data()\n",
    "\n",
    "    def scrape_data(self):\n",
    "        items = self.driver.find_elements(By.CSS_SELECTOR, \"selector_for_items\")\n",
    "        for item in items:\n",
    "            name = item.find_element(By.CSS_SELECTOR, \"selector_for_name\").text\n",
    "            address = item.find_element(By.CSS_SELECTOR, \"selector_for_address\").text\n",
    "            email = item.find_element(By.CSS_SELECTOR, \"selector_for_email\").text\n",
    "            phone = item.find_element(By.CSS_SELECTOR, \"selector_for_phone\").text\n",
    "            website = item.find_element(By.CSS_SELECTOR, \"selector_for_website\").text\n",
    "            self.data.append({\n",
    "                \"Name\": name,\n",
    "                \"Address\": address,\n",
    "                \"Email\": email,\n",
    "                \"Phone\": phone,\n",
    "                \"Website\": website\n",
    "            })\n",
    "\n",
    "    def save_data(self):\n",
    "        df = pd.DataFrame(self.data)\n",
    "        df.to_csv(\"scraped_data.csv\", index=False)\n",
    "\n",
    "    def close_driver(self):\n",
    "        self.driver.quit()\n",
    "\n",
    "    def run(self):\n",
    "        self.setup_driver()\n",
    "        self.scroll_and_scrape()\n",
    "        self.save_data()\n",
    "        self.close_driver()"
   ],
   "metadata": {
    "collapsed": false
   },
   "id": "3aedb8f374a8dacd"
  },
  {
   "cell_type": "code",
   "outputs": [],
   "source": [],
   "metadata": {
    "collapsed": false
   },
   "id": "14252d891a45d9e"
  },
  {
   "cell_type": "code",
   "outputs": [],
   "source": [
    "BlazeMongoDB = \"mongodb+srv://cmwolfe:<password>@blaze-logistics.u33eshg.mongodb.net/?retryWrites=true&w=majority\""
   ],
   "metadata": {
    "collapsed": false,
    "ExecuteTime": {
     "end_time": "2024-03-15T23:53:06.015073200Z",
     "start_time": "2024-03-15T23:53:05.999409Z"
    }
   },
   "id": "6b18e4c8ca2bcad7",
   "execution_count": 1
  },
  {
   "cell_type": "code",
   "outputs": [],
   "source": [],
   "metadata": {
    "collapsed": false,
    "ExecuteTime": {
     "end_time": "2024-03-16T04:49:41.215250600Z",
     "start_time": "2024-03-16T04:49:41.210749Z"
    }
   },
   "id": "b720c14aac37e384",
   "execution_count": 7
  },
  {
   "cell_type": "code",
   "outputs": [],
   "source": [],
   "metadata": {
    "collapsed": false,
    "ExecuteTime": {
     "end_time": "2024-03-16T04:49:41.452758200Z",
     "start_time": "2024-03-16T04:49:41.445736400Z"
    }
   },
   "id": "3d826f30f593c84f",
   "execution_count": 7
  },
  {
   "cell_type": "code",
   "outputs": [],
   "source": [],
   "metadata": {
    "collapsed": false,
    "ExecuteTime": {
     "end_time": "2024-03-16T04:49:41.665577Z",
     "start_time": "2024-03-16T04:49:41.656067900Z"
    }
   },
   "id": "39773bcfb338c335",
   "execution_count": 7
  },
  {
   "cell_type": "code",
   "outputs": [],
   "source": [],
   "metadata": {
    "collapsed": false,
    "ExecuteTime": {
     "end_time": "2024-03-16T04:49:41.884293800Z",
     "start_time": "2024-03-16T04:49:41.874780300Z"
    }
   },
   "id": "c74271436de3457c",
   "execution_count": 7
  },
  {
   "cell_type": "code",
   "outputs": [],
   "source": [],
   "metadata": {
    "collapsed": false,
    "ExecuteTime": {
     "end_time": "2024-03-16T04:55:06.128000400Z",
     "start_time": "2024-03-16T04:55:06.110137900Z"
    }
   },
   "id": "3b841bdd5d23cdc4",
   "execution_count": 8
  },
  {
   "cell_type": "code",
   "outputs": [],
   "source": [],
   "metadata": {
    "collapsed": false,
    "ExecuteTime": {
     "end_time": "2024-03-16T04:55:27.846888600Z",
     "start_time": "2024-03-16T04:55:27.844881300Z"
    }
   },
   "id": "cc1669c5360da7c",
   "execution_count": 9
  },
  {
   "cell_type": "code",
   "outputs": [],
   "source": [],
   "metadata": {
    "collapsed": false,
    "ExecuteTime": {
     "end_time": "2024-03-16T04:57:50.253574600Z",
     "start_time": "2024-03-16T04:57:50.244588Z"
    }
   },
   "id": "676cc18ec008e7eb",
   "execution_count": 10
  },
  {
   "cell_type": "code",
   "outputs": [
    {
     "data": {
      "text/plain": "['Select all elements with `//tagName`',\n 'Select all elements with `//tagName` with `attribute` with specific `value`: ',\n \"Select all elements with `//tagName` containing specific 'text content': \",\n 'Select nth `tagName` element in doc: ',\n 'Select first|last `childTagName` within `parentTagName`: ',\n \"Select elements that `attribute` = 'substring': \",\n 'Select `tagName` ancestor|sibling element, showcasing XPath axes to navigate element relationships: ',\n 'Use logical operators (and, or) to select elements that meet multiple conditions: ',\n 'Selects all tags with `className`, accounting for potential multiple class names.',\n \"Select elements without certain `attribute` or select 'attribute' that exceeds the len of `n`( demonstrating the use of XPath functions for more complex filtering) :\"]"
     },
     "execution_count": 11,
     "metadata": {},
     "output_type": "execute_result"
    }
   ],
   "source": [],
   "metadata": {
    "collapsed": false,
    "ExecuteTime": {
     "end_time": "2024-03-16T04:58:06.397387100Z",
     "start_time": "2024-03-16T04:58:06.383456900Z"
    }
   },
   "id": "89a47b77dc2f0d8f",
   "execution_count": 11
  },
  {
   "cell_type": "code",
   "outputs": [],
   "source": [],
   "metadata": {
    "collapsed": false,
    "ExecuteTime": {
     "end_time": "2024-03-16T04:49:42.972906700Z",
     "start_time": "2024-03-16T04:49:42.953891100Z"
    }
   },
   "id": "f5d479a5b8f93ab3",
   "execution_count": 7
  },
  {
   "cell_type": "code",
   "outputs": [],
   "source": [],
   "metadata": {
    "collapsed": false,
    "ExecuteTime": {
     "end_time": "2024-03-16T04:49:43.128371700Z",
     "start_time": "2024-03-16T04:49:43.117856Z"
    }
   },
   "id": "77bffa8504336f28",
   "execution_count": 7
  },
  {
   "cell_type": "code",
   "outputs": [],
   "source": [],
   "metadata": {
    "collapsed": false
   },
   "id": "d972f2c48881f0d9"
  }
 ],
 "metadata": {
  "kernelspec": {
   "display_name": "Python 3",
   "language": "python",
   "name": "python3"
  },
  "language_info": {
   "codemirror_mode": {
    "name": "ipython",
    "version": 2
   },
   "file_extension": ".py",
   "mimetype": "text/x-python",
   "name": "python",
   "nbconvert_exporter": "python",
   "pygments_lexer": "ipython2",
   "version": "2.7.6"
  }
 },
 "nbformat": 4,
 "nbformat_minor": 5
}
